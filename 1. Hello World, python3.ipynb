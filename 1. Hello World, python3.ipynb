{
 "cells": [
  {
   "cell_type": "markdown",
   "metadata": {},
   "source": [
    "# Hello World\n",
    "\n",
    "## Python Cheat Sheet\n",
    "\n",
    "Indentation is very important! The interpreter uses this to figure out where a scope starts and ends, ie. where an `if` statement counts, or what is the body of a function.\n",
    "\n",
    "[Learn X in Y Minutes (X = Python3)](https://learnxinyminutes.com/docs/python3/)\n",
    "\n",
    "### Define a function\n",
    "Functions are pieces of reusable code, much like functions in mathematics. They take a number of inputs and yield outputs using the `return` keyword. The inputs are called arguments or parameters:"
   ]
  },
  {
   "cell_type": "code",
   "execution_count": 5,
   "metadata": {
    "collapsed": false
   },
   "outputs": [
    {
     "name": "stdout",
     "output_type": "stream",
     "text": [
      "100\n",
      "9\n"
     ]
    }
   ],
   "source": [
    "# Will return the product of x and y, y defaulting to 10\n",
    "def myfn(x, y = 10):\n",
    "    return x * y\n",
    "\n",
    "print(myfn(10)) # 100\n",
    "print(myfn(3, 3)) # 9"
   ]
  },
  {
   "cell_type": "markdown",
   "metadata": {},
   "source": [
    "### Numbers\n",
    "\n",
    "Many programming languages differantiate between integers and floating point (decimal) numbers. Python3 casts automatically between the two, while Python2 didn't. This means that in a lot of older examples you'll see people defining numbers such as `float = 1.`, the dot signifying that it's a float."
   ]
  },
  {
   "cell_type": "code",
   "execution_count": 8,
   "metadata": {
    "collapsed": false
   },
   "outputs": [
    {
     "name": "stdout",
     "output_type": "stream",
     "text": [
      "0.3333333333333333\n",
      "0.3333333333333333\n"
     ]
    }
   ],
   "source": [
    "integer = 1\n",
    "float = 1.\n",
    "\n",
    "print(integer / 3)\n",
    "print(float / 3)"
   ]
  },
  {
   "cell_type": "markdown",
   "metadata": {},
   "source": [
    "# Control Flow\n",
    "To make intelligent programs you sometimes have to run some code, conditional of some other. This is called control flow. The simplest control flow statement is `if ... else`. Others exists, such as `switch` and `try ... catch`:"
   ]
  },
  {
   "cell_type": "code",
   "execution_count": 9,
   "metadata": {
    "collapsed": false
   },
   "outputs": [
    {
     "name": "stdout",
     "output_type": "stream",
     "text": [
      "Pew, hell didn't freeze yet\n"
     ]
    }
   ],
   "source": [
    "num = 10\n",
    "\n",
    "if (num < 10):\n",
    "    print(\"Impossible!\")\n",
    "else:\n",
    "    print(\"Pew, hell didn't freeze yet\")"
   ]
  }
 ],
 "metadata": {
  "kernelspec": {
   "display_name": "Python 3",
   "language": "python",
   "name": "python3"
  },
  "language_info": {
   "codemirror_mode": {
    "name": "ipython",
    "version": 3
   },
   "file_extension": ".py",
   "mimetype": "text/x-python",
   "name": "python",
   "nbconvert_exporter": "python",
   "pygments_lexer": "ipython3",
   "version": "3.5.1"
  }
 },
 "nbformat": 4,
 "nbformat_minor": 0
}
